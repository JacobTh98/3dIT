{
 "cells": [
  {
   "cell_type": "code",
   "execution_count": null,
   "id": "f38de1cc-b3f0-4921-8738-5725b891e255",
   "metadata": {},
   "outputs": [],
   "source": [
    "import glob\n",
    "\n",
    "import matplotlib.pyplot as plt\n",
    "import numpy as np\n",
    "from sklearn.model_selection import train_test_split\n",
    "from src.classes import HitBox, TankProperties32x2\n",
    "from src.dataprocessing import get_measured_potential\n",
    "from src.vae_model import vae_model\n",
    "from src.visualization import (\n",
    "    plot_latent_space_with_tsne,\n",
    "    plot_loss_history,\n",
    "    plot_meas_coords,\n",
    "    plot_meas_coords_wball,\n",
    "    plot_mesh,\n",
    "    plot_rball,\n",
    "    plot_voxel,\n",
    ")\n",
    "from src.voxel_util import (\n",
    "    gen_voxel_ball_data,\n",
    "    gen_voxel_brick_data,\n",
    "    random_voxel_ball,\n",
    "    random_voxel_brick,\n",
    "    read_json_file,\n",
    "    scale_realworld_to_intdomain,\n",
    "    voxel_ball,\n",
    ")\n",
    "from tensorflow.keras.optimizers import Adam\n",
    "from tqdm import tqdm"
   ]
  },
  {
   "cell_type": "code",
   "execution_count": null,
   "id": "3f70aa54-e2bb-4c70-b332-5ae9049e0919",
   "metadata": {},
   "outputs": [],
   "source": [
    "# sources\n",
    "# https://github.com/IsaacGuan/3D-VAE/blob/master/train.py\n",
    "# https://github.com/ffriese/voxel_vae/tree/master\n",
    "# https://github.com/ajbrock/Generative-and-Discriminative-Voxel-Modeling/blob/master/Generative/VAE.py"
   ]
  },
  {
   "cell_type": "code",
   "execution_count": null,
   "id": "48ad63f8-3eb8-44e1-a06b-cf466b8fbddd",
   "metadata": {},
   "outputs": [],
   "source": [
    "ball = True\n",
    "if ball:\n",
    "    d = 4\n",
    "    plot_voxel(random_voxel_ball(d=d))\n",
    "else:\n",
    "    d_xyz = [5, 5, 5]\n",
    "    plot_voxel(random_voxel_brick(d_xyz=d_xyz))"
   ]
  },
  {
   "cell_type": "code",
   "execution_count": null,
   "id": "21c1f077-74bb-41b6-bdaa-bc0fadc519fa",
   "metadata": {},
   "outputs": [],
   "source": [
    "n_gammas = 500\n",
    "if ball:\n",
    "    gamma_train = gen_voxel_ball_data(num=n_gammas, d=d)\n",
    "else:\n",
    "    gamma_train = gen_voxel_brick_data(num=n_gammas, d_xyz=d_xyz)\n",
    "\n",
    "print(gamma_train.shape)"
   ]
  },
  {
   "cell_type": "code",
   "execution_count": null,
   "id": "6ea95d86-c7d4-49b9-8caf-5bc6fd91e601",
   "metadata": {},
   "outputs": [],
   "source": [
    "ns = 100\n",
    "for idx in np.random.randint(0, ns, size=3):\n",
    "    plot_voxel(gamma_train[idx, :, :, :, 0])"
   ]
  },
  {
   "cell_type": "code",
   "execution_count": null,
   "id": "a05555ef-c41a-4cc8-8cef-ae4f2f3528e1",
   "metadata": {},
   "outputs": [],
   "source": [
    "vae = vae_model(input_shape=(32, 32, 32, 1), beta=1.02)\n",
    "vae.compile(optimizer=Adam())\n",
    "epoch_num = 250\n",
    "batch_size = 128\n",
    "# vae.build(input_shape=(32, 32, 32, 1))\n",
    "# vae.summary()\n",
    "history = vae.fit(gamma_train, epochs=epoch_num, batch_size=batch_size)\n",
    "# callbacks = [LearningRateScheduler(learning_rate_scheduler)]"
   ]
  },
  {
   "cell_type": "code",
   "execution_count": null,
   "id": "3169138a-dc22-47a5-bca5-1691e8b11fc9",
   "metadata": {},
   "outputs": [],
   "source": [
    "plot_loss_history(history)\n",
    "\n",
    "plt.figure(figsize=(6, 4))\n",
    "plt.title(\"Kl Loss History\")\n",
    "plt.plot(history.history[\"kl_loss\"])\n",
    "plt.xlabel(\"Epochs\")\n",
    "plt.ylabel(\"Loss\")\n",
    "plt.grid()\n",
    "plt.tight_layout()\n",
    "plt.show()"
   ]
  },
  {
   "cell_type": "code",
   "execution_count": null,
   "id": "f9f2df6a-8d82-4168-a4be-5e0f00b46875",
   "metadata": {},
   "outputs": [],
   "source": [
    "if ball:\n",
    "    gamma_test = gen_voxel_ball_data(num=100, d=d)\n",
    "else:\n",
    "    gamma_test = gen_voxel_brick_data(num=100, d_xyz=d_xyz)"
   ]
  },
  {
   "cell_type": "code",
   "execution_count": null,
   "id": "a12b46fa-7389-4f48-89d9-a6edab49cac5",
   "metadata": {},
   "outputs": [],
   "source": [
    "z_mean, z_log_var, z = vae.encoder.predict(gamma_test)\n",
    "plot_latent_space_with_tsne(z_log_var)"
   ]
  },
  {
   "cell_type": "code",
   "execution_count": null,
   "id": "c32ac86a-eac4-45a2-b848-7e57cb2f58c7",
   "metadata": {},
   "outputs": [],
   "source": [
    "if ball:\n",
    "    sgl_data = gen_voxel_ball_data(1, d=d)\n",
    "else:\n",
    "    sgl_data = gen_voxel_brick_data(1, d_xyz=d_xyz)\n",
    "plot_voxel(sgl_data[0, :, :, :, 0], azim=0, elev=30)\n",
    "z_mean, z_log_var, z = vae.encoder.predict(sgl_data)"
   ]
  },
  {
   "cell_type": "code",
   "execution_count": null,
   "id": "1fa41d71-1ef8-4c43-a5d1-26866e2fb74a",
   "metadata": {},
   "outputs": [],
   "source": [
    "sgl_data.shape"
   ]
  },
  {
   "cell_type": "code",
   "execution_count": null,
   "id": "3cd29f79-cb2f-4c04-adf2-ece732b2f40e",
   "metadata": {},
   "outputs": [],
   "source": [
    "sgl_pred = vae.decoder.predict(z)\n",
    "sgl_pred = np.squeeze(sgl_pred, axis=4)\n",
    "sgl_pred = np.squeeze(sgl_pred, axis=0)\n",
    "# sgl_pred = np.abs(np.round(sgl_pred))\n",
    "sgl_pred = np.clip(sgl_pred, a_min=0, a_max=1)\n",
    "\n",
    "plot_voxel(sgl_pred, azim=0, elev=30)"
   ]
  },
  {
   "cell_type": "code",
   "execution_count": null,
   "id": "d05da8c3-cb62-435d-8a5b-92d42a246932",
   "metadata": {},
   "outputs": [],
   "source": [
    "vae.save_weights(\"models/vae_weights_beta.h5\")\n",
    "vae.save(\"models/vae_beta.keras\")"
   ]
  },
  {
   "cell_type": "markdown",
   "id": "5911fd7b-5550-4f1b-bce6-55a4f2807356",
   "metadata": {},
   "source": [
    "## Load VAE"
   ]
  },
  {
   "cell_type": "raw",
   "id": "b31777f9-6fb6-4071-8689-d0e9fc79ec4e",
   "metadata": {},
   "source": [
    "import tensorflow as tf\n",
    "new_model = tf.keras.models.load_model('models/vae.keras')"
   ]
  },
  {
   "cell_type": "raw",
   "id": "ae69e700-0147-4873-a89d-3b2f596cf4c6",
   "metadata": {},
   "source": [
    "sgl_pred = new_model.decoder.predict(z)\n",
    "sgl_pred = np.squeeze(sgl_pred, axis=4)\n",
    "sgl_pred = np.squeeze(sgl_pred, axis=0)\n",
    "# sgl_pred = np.abs(np.round(sgl_pred))\n",
    "sgl_pred = np.clip(sgl_pred, a_min=0, a_max=1)\n",
    "\n",
    "plot_voxel(sgl_pred, azim=0, elev=30)"
   ]
  },
  {
   "cell_type": "markdown",
   "id": "7e90b83b-0414-4c0d-a03b-ddf4ac5cea06",
   "metadata": {},
   "source": [
    "## Build Mapper"
   ]
  },
  {
   "cell_type": "code",
   "execution_count": null,
   "id": "f3704126-715a-4b9a-8992-730c141bb9e4",
   "metadata": {},
   "outputs": [],
   "source": [
    "l_path = \"measurements/acryl_skip_8_d_30/\"\n",
    "\n",
    "json_data = read_json_file(l_path + \"info.json\")\n",
    "hitbox = HitBox(**json_data[\"HitBox\"])\n",
    "tank = TankProperties32x2(**json_data[\"TankProperties32x2\"])"
   ]
  },
  {
   "cell_type": "code",
   "execution_count": null,
   "id": "940e4d28-f677-43d2-a485-be2e85329ac1",
   "metadata": {},
   "outputs": [],
   "source": [
    "pots = list()\n",
    "perm = list()\n",
    "\n",
    "for path in tqdm(np.sort(glob.glob(l_path + \"data/*\"))):\n",
    "    tmp = np.load(path, allow_pickle=True)\n",
    "    pots.append(np.abs(get_measured_potential(tmp, shape_type=\"vector\")))\n",
    "    ball = tmp[\"anomaly\"].tolist()\n",
    "    coordinate = [ball.y, ball.x, ball.z]\n",
    "    d = 4\n",
    "    x0, y0, z0 = scale_realworld_to_intdomain(coordinate, hitbox, d=d)\n",
    "    perm.append(voxel_ball(y0, x0, z0, d=d))\n",
    "perm = np.array(perm)\n",
    "_, _, z = vae.encoder.predict(np.expand_dims(perm, axis=4))\n",
    "perm = z\n",
    "del z\n",
    "pots = np.array(pots)"
   ]
  },
  {
   "cell_type": "code",
   "execution_count": null,
   "id": "74d8b7d7-0875-4c8b-b51e-934bf2fc5a43",
   "metadata": {},
   "outputs": [],
   "source": [
    "pots_train, pots_test, perm_train, perm_test = train_test_split(\n",
    "    pots, perm, test_size=0.05, random_state=42\n",
    ")"
   ]
  },
  {
   "cell_type": "code",
   "execution_count": null,
   "id": "051b3278-3a86-4e14-9379-8fc0147cf9b7",
   "metadata": {},
   "outputs": [],
   "source": [
    "print(pots_train.shape, pots_test.shape, perm_train.shape, perm_test.shape)"
   ]
  },
  {
   "cell_type": "code",
   "execution_count": null,
   "id": "e978de31-1051-4b2b-98fc-1a1d9f87f4f0",
   "metadata": {},
   "outputs": [],
   "source": [
    "import tensorflow as tf\n",
    "from tensorflow.keras import layers\n",
    "from tensorflow.keras.models import Model\n",
    "from tensorflow.keras.optimizers import Adam\n",
    "\n",
    "\n",
    "def mapper(input_shape=(4096,), latent_dim=10):\n",
    "    mapper_inputs = layers.Input(shape=input_shape)\n",
    "    x = layers.Reshape((4096, 1))(mapper_inputs)\n",
    "    x = layers.Conv1D(32, strides=2, kernel_size=9)(x)\n",
    "    x = layers.Conv1D(16, strides=4, kernel_size=9)(x)\n",
    "    x = layers.Conv1D(8, strides=4, kernel_size=9)(x)\n",
    "    x = layers.Conv1D(4, strides=4, kernel_size=9)(x)\n",
    "    x = layers.Flatten()(x)\n",
    "    x = layers.Dense(latent_dim, activation=\"relu\")(x)\n",
    "\n",
    "    return Model(mapper_inputs, x)\n",
    "\n",
    "\n",
    "mapper = mapper()\n",
    "mapper.compile(Adam(), loss=tf.keras.losses.mean_squared_error)\n",
    "mapper.summary()"
   ]
  },
  {
   "cell_type": "code",
   "execution_count": null,
   "id": "0356d80d-bec8-4a0f-9ef0-bb058fad45aa",
   "metadata": {},
   "outputs": [],
   "source": [
    "history_mapper = mapper.fit(pots_train, perm_train, epochs=90, batch_size=64)"
   ]
  },
  {
   "cell_type": "code",
   "execution_count": null,
   "id": "3cabab64-da8e-4dc7-90c1-439d0404a546",
   "metadata": {},
   "outputs": [],
   "source": [
    "plt.plot(history_mapper.history[\"loss\"])\n",
    "plt.xlabel(\"Epochs\")\n",
    "plt.ylabel(\"Loss\")\n",
    "plt.grid()\n",
    "plt.show()"
   ]
  },
  {
   "cell_type": "code",
   "execution_count": null,
   "id": "1e760528-385d-4d5b-a379-62149f546a93",
   "metadata": {},
   "outputs": [],
   "source": []
  }
 ],
 "metadata": {
  "kernelspec": {
   "display_name": "ml-TF_2_12",
   "language": "python",
   "name": "ml-tf_2_12"
  },
  "language_info": {
   "codemirror_mode": {
    "name": "ipython",
    "version": 3
   },
   "file_extension": ".py",
   "mimetype": "text/x-python",
   "name": "python",
   "nbconvert_exporter": "python",
   "pygments_lexer": "ipython3",
   "version": "3.11.2"
  }
 },
 "nbformat": 4,
 "nbformat_minor": 5
}
