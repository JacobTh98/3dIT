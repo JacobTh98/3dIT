{
 "cells": [
  {
   "cell_type": "code",
   "execution_count": 1,
   "id": "e66adad1-f805-4170-a93c-f3e16da57e49",
   "metadata": {},
   "outputs": [
    {
     "name": "stderr",
     "output_type": "stream",
     "text": [
      "2024-03-13 09:14:26.961367: E tensorflow/compiler/xla/stream_executor/cuda/cuda_dnn.cc:9342] Unable to register cuDNN factory: Attempting to register factory for plugin cuDNN when one has already been registered\n",
      "2024-03-13 09:14:26.961472: E tensorflow/compiler/xla/stream_executor/cuda/cuda_fft.cc:609] Unable to register cuFFT factory: Attempting to register factory for plugin cuFFT when one has already been registered\n",
      "2024-03-13 09:14:26.962305: E tensorflow/compiler/xla/stream_executor/cuda/cuda_blas.cc:1518] Unable to register cuBLAS factory: Attempting to register factory for plugin cuBLAS when one has already been registered\n",
      "2024-03-13 09:14:27.049222: I tensorflow/core/platform/cpu_feature_guard.cc:182] This TensorFlow binary is optimized to use available CPU instructions in performance-critical operations.\n",
      "To enable the following instructions: AVX2 FMA, in other operations, rebuild TensorFlow with the appropriate compiler flags.\n"
     ]
    }
   ],
   "source": [
    "import glob\n",
    "import json\n",
    "import random\n",
    "\n",
    "import matplotlib.pyplot as plt\n",
    "import numpy as np\n",
    "\n",
    "from mpl_toolkits.mplot3d import Axes3D\n",
    "from sklearn.datasets import load_iris\n",
    "from sklearn.decomposition import PCA\n",
    "from sklearn.metrics import confusion_matrix\n",
    "from sklearn.model_selection import train_test_split\n",
    "from src.dataprocessing import get_measured_potential\n",
    "from tensorflow import distribute as dist\n",
    "from tensorflow.keras.callbacks import EarlyStopping\n",
    "import tensorflow as tf\n",
    "from tensorflow.keras.models import Model\n",
    "from tensorflow.keras.optimizers import Adam\n",
    "from tensorflow.keras.utils import Sequence"
   ]
  },
  {
   "cell_type": "code",
   "execution_count": 2,
   "id": "0c58cc75-4c6e-4d19-ad29-dcf7bea18040",
   "metadata": {},
   "outputs": [],
   "source": [
    "class DataGenerator(Sequence):\n",
    "    def __init__(\n",
    "        self,\n",
    "        list_IDs,\n",
    "        path,\n",
    "        batch_size=32,\n",
    "        eit_dim=4096,\n",
    "        supervised=\"diameter\",\n",
    "        shuffle=True,\n",
    "    ):\n",
    "        \"Initialization\"\n",
    "        self.path = path\n",
    "        self.eit_dim = eit_dim\n",
    "        self.supervised = supervised\n",
    "        self.batch_size = batch_size\n",
    "        self.list_IDs = list_IDs\n",
    "        self.shuffle = shuffle\n",
    "        self.on_epoch_end()\n",
    "        self.n = 0\n",
    "        self.max = self.__len__()\n",
    "\n",
    "    def __len__(self):\n",
    "        \"Denotes the number of batches per epoch\"\n",
    "        return int(np.floor(len(self.list_IDs) / self.batch_size))\n",
    "\n",
    "    def __getitem__(self, index):\n",
    "        \"Generate one batch of data\"\n",
    "        indexes = self.indexes[index * self.batch_size : (index + 1) * self.batch_size]\n",
    "        list_IDs_temp = [self.list_IDs[k] for k in indexes]\n",
    "        X, y = self.__data_generation(list_IDs_temp)\n",
    "        return X, y\n",
    "\n",
    "    def __next__(self):\n",
    "        if self.n >= self.max:\n",
    "            self.n = 0\n",
    "        result = self.__getitem__(self.n)\n",
    "        self.n += 1\n",
    "        return result\n",
    "\n",
    "    def on_epoch_end(self):\n",
    "        \"Updates indexes after each epoch\"\n",
    "        self.indexes = np.arange(len(self.list_IDs))\n",
    "        if self.shuffle == True:\n",
    "            np.random.shuffle(self.indexes)\n",
    "\n",
    "    def __data_generation(self, list_IDs_temp):\n",
    "        \"Generates data containing batch_size samples\"  # X : (n_samples, *eit_dim)\n",
    "        # Initialization\n",
    "        X = np.empty((self.batch_size, 64, 64, 1))  # EIT signal, self.eit_dim\n",
    "        y = np.empty((self.batch_size, 1))\n",
    "\n",
    "        # Generate data\n",
    "        for i, ID in enumerate(list_IDs_temp):\n",
    "            # load sample\n",
    "            tmp = np.load(\n",
    "                \"{0:s}/sample_{1:06d}.npz\".format(self.path, ID), allow_pickle=True\n",
    "            )\n",
    "            anomaly = tmp[\"anomaly\"].tolist()\n",
    "            raw_eit = get_measured_potential(tmp, shape_type=\"matrix\")\n",
    "            # raw_eit = get_measured_potential(tmp, shape_type=\"vector\")\n",
    "            mean_eit = np.load(\n",
    "                f\"{self.path.split('/')[0]}/datameans/mean_gnd_d_{anomaly.d}_{anomaly.material}.npy\",\n",
    "                allow_pickle=True,\n",
    "            )\n",
    "            pot = np.abs(raw_eit - np.reshape(mean_eit,(64,64)))\n",
    "            # pot = np.abs(raw_eit - mean_eit) # vector eit data shape\n",
    "            X[\n",
    "                i,\n",
    "            ] = np.expand_dims(pot, axis=2)\n",
    "            #X[\n",
    "            #    i,\n",
    "            #] = np.expand_dims(pot, axis=1)\n",
    "            if self.supervised == \"diameter\":\n",
    "                y[\n",
    "                    i,\n",
    "                ] = anomaly.d\n",
    "            elif self.supervised == \"material\":\n",
    "                mat_dict = {\"acryl\": 0, \"messing\": 1}\n",
    "                y[\n",
    "                    i,\n",
    "                ] = mat_dict[anomaly.material]\n",
    "\n",
    "            # add normalization?\n",
    "        return X, y"
   ]
  },
  {
   "cell_type": "code",
   "execution_count": 3,
   "id": "bf7ba285-d148-4f59-b907-2dfe036bef11",
   "metadata": {},
   "outputs": [],
   "source": [
    "params = {\n",
    "    \"path\": \"measurements/datapool/\",\n",
    "    \"eit_dim\": 4096,\n",
    "    \"supervised\": \"material\",  # \"diameter\" or \"material\"\n",
    "    \"batch_size\": 5,\n",
    "    \"shuffle\": True,\n",
    "}\n",
    "\n",
    "idx = np.arange(0, 124_200)[:10_000]\n",
    "np.random.shuffle(idx)\n",
    "\n",
    "training_generator = DataGenerator(idx, **params)"
   ]
  },
  {
   "cell_type": "code",
   "execution_count": 4,
   "id": "7d9ee91b-1295-46d9-9677-054e2d306097",
   "metadata": {},
   "outputs": [],
   "source": [
    "X, Y = training_generator[0]"
   ]
  },
  {
   "cell_type": "code",
   "execution_count": 5,
   "id": "95f14dec-ea00-40ed-ad28-d9403a188080",
   "metadata": {},
   "outputs": [
    {
     "name": "stdout",
     "output_type": "stream",
     "text": [
      "(5, 64, 64, 1) (5, 1)\n"
     ]
    }
   ],
   "source": [
    "print(X.shape, Y.shape)"
   ]
  },
  {
   "cell_type": "code",
   "execution_count": 6,
   "id": "bec004f4-c999-462a-93d0-e4184ffaafae",
   "metadata": {},
   "outputs": [],
   "source": [
    "Xscaler = tf.keras.layers.Normalization(axis=2)\n",
    "\n",
    "def model(input_shape=(64, 64, 1), latent_dim=3, kernel=9):\n",
    "    mapper_input = tf.keras.layers.Input(shape=input_shape)\n",
    "\n",
    "    # normalize input data\n",
    "    x = Xscaler(mapper_input)\n",
    "\n",
    "    # convolutional layers\n",
    "    x = tf.keras.layers.Conv2D(8, kernel, strides=(2, 4), padding=\"same\")(x)\n",
    "    # x = MaxPooling2D(pool_size=(2,4))(x)\n",
    "    #x = tf.keras.layers.BatchNormalization()(x)\n",
    "    #x = tf.keras.layers.Activation(\"elu\")(x)\n",
    "    #x = Dropout(0.5)(x)\n",
    "\n",
    "    x = tf.keras.layers.Conv2D(8, kernel, strides=(2, 4), padding=\"same\")(x)\n",
    "    # x = MaxPooling2D(pool_size=(2,4))(x)\n",
    "    #x = BatchNormalization()(x)\n",
    "    #x = Activation(\"elu\")(x)\n",
    "    #x = Dropout(0.5)(x)\n",
    "\n",
    "    x = tf.keras.layers.Conv2D(16, kernel, strides=(2, 4), padding=\"same\")(x)\n",
    "    # x = MaxPooling2D(pool_size=(2,4))(x)\n",
    "    #x = BatchNormalization()(x)\n",
    "    #x = Activation(\"elu\")(x)\n",
    "    #x = Dropout(0.5)(x)\n",
    "\n",
    "    x = tf.keras.layers.Conv2D(16, kernel, strides=(2, 4), padding=\"same\")(x)\n",
    "    #x = MaxPooling2D(pool_size=(2, 4))(x)\n",
    "    #x = tf.keras.layers.BatchNormalization()(x)\n",
    "    #x = Activation(\"elu\")(x)\n",
    "    #x = Dropout(0.25)(x)\n",
    "\n",
    "    x = tf.keras.layers.Flatten()(x)\n",
    "    # x = Dense(latent_dim, activation=\"elu\")(x)\n",
    "    mapper_output = tf.keras.layers.Dense(latent_dim, activation=\"linear\")(x)\n",
    "\n",
    "    return Model(mapper_input, mapper_output)"
   ]
  },
  {
   "cell_type": "code",
   "execution_count": 7,
   "id": "da8e020c-db43-4ca9-9467-052fb22c6c0e",
   "metadata": {
    "tags": []
   },
   "outputs": [
    {
     "name": "stdout",
     "output_type": "stream",
     "text": [
      "Model: \"model\"\n",
      "_________________________________________________________________\n",
      " Layer (type)                Output Shape              Param #   \n",
      "=================================================================\n",
      " input_1 (InputLayer)        [(None, 64, 64, 1)]       0         \n",
      "                                                                 \n",
      " normalization (Normalizati  (None, 64, 64, 1)         129       \n",
      " on)                                                             \n",
      "                                                                 \n",
      " conv2d (Conv2D)             (None, 32, 16, 8)         208       \n",
      "                                                                 \n",
      " conv2d_1 (Conv2D)           (None, 16, 4, 8)          1608      \n",
      "                                                                 \n",
      " conv2d_2 (Conv2D)           (None, 8, 1, 16)          3216      \n",
      "                                                                 \n",
      " conv2d_3 (Conv2D)           (None, 4, 1, 16)          6416      \n",
      "                                                                 \n",
      " flatten (Flatten)           (None, 64)                0         \n",
      "                                                                 \n",
      " dense (Dense)               (None, 3)                 195       \n",
      "                                                                 \n",
      "=================================================================\n",
      "Total params: 11772 (45.99 KB)\n",
      "Trainable params: 11643 (45.48 KB)\n",
      "Non-trainable params: 129 (520.00 Byte)\n",
      "_________________________________________________________________\n"
     ]
    },
    {
     "name": "stderr",
     "output_type": "stream",
     "text": [
      "2024-03-13 09:14:37.982227: I tensorflow/core/common_runtime/gpu/gpu_device.cc:1886] Created device /job:localhost/replica:0/task:0/device:GPU:0 with 46702 MB memory:  -> device: 0, name: NVIDIA RTX A6000, pci bus id: 0000:01:00.0, compute capability: 8.6\n",
      "2024-03-13 09:14:37.984249: I tensorflow/core/common_runtime/gpu/gpu_device.cc:1886] Created device /job:localhost/replica:0/task:0/device:GPU:1 with 46702 MB memory:  -> device: 1, name: NVIDIA RTX A6000, pci bus id: 0000:81:00.0, compute capability: 8.6\n"
     ]
    },
    {
     "name": "stdout",
     "output_type": "stream",
     "text": [
      "Epoch 1/10\n"
     ]
    },
    {
     "name": "stderr",
     "output_type": "stream",
     "text": [
      "2024-03-13 09:14:40.750581: I tensorflow/compiler/xla/stream_executor/cuda/cuda_dnn.cc:442] Loaded cuDNN version 8600\n",
      "2024-03-13 09:14:42.074119: I tensorflow/compiler/xla/service/service.cc:168] XLA service 0x7f46b4020790 initialized for platform CUDA (this does not guarantee that XLA will be used). Devices:\n",
      "2024-03-13 09:14:42.074189: I tensorflow/compiler/xla/service/service.cc:176]   StreamExecutor device (0): NVIDIA RTX A6000, Compute Capability 8.6\n",
      "2024-03-13 09:14:42.074211: I tensorflow/compiler/xla/service/service.cc:176]   StreamExecutor device (1): NVIDIA RTX A6000, Compute Capability 8.6\n",
      "2024-03-13 09:14:42.085725: I tensorflow/compiler/mlir/tensorflow/utils/dump_mlir_util.cc:269] disabling MLIR crash reproducer, set env var `MLIR_CRASH_REPRODUCER_DIRECTORY` to enable.\n",
      "2024-03-13 09:14:42.265646: I ./tensorflow/compiler/jit/device_compiler.h:186] Compiled cluster using XLA!  This line is logged at most once for the lifetime of the process.\n"
     ]
    },
    {
     "name": "stdout",
     "output_type": "stream",
     "text": [
      "2000/2000 [==============================] - 144s 70ms/step - loss: 0.0550\n",
      "Epoch 2/10\n",
      "2000/2000 [==============================] - 145s 73ms/step - loss: 0.0120\n",
      "Epoch 3/10\n",
      "2000/2000 [==============================] - 151s 75ms/step - loss: 0.0034\n",
      "Epoch 4/10\n",
      "2000/2000 [==============================] - 136s 68ms/step - loss: 0.0025\n",
      "Epoch 5/10\n",
      "2000/2000 [==============================] - 141s 71ms/step - loss: 0.0021\n",
      "Epoch 6/10\n",
      "2000/2000 [==============================] - 137s 68ms/step - loss: 0.0019\n",
      "Epoch 7/10\n",
      "2000/2000 [==============================] - 134s 67ms/step - loss: 0.0018\n",
      "Epoch 8/10\n",
      "2000/2000 [==============================] - 125s 63ms/step - loss: 0.0016\n",
      "Epoch 9/10\n",
      "2000/2000 [==============================] - 137s 69ms/step - loss: 0.0015\n",
      "Epoch 10/10\n",
      "2000/2000 [==============================] - 160s 80ms/step - loss: 0.0013\n"
     ]
    }
   ],
   "source": [
    "opt = Adam(learning_rate=1e-3)\n",
    "model = model(latent_dim=3, kernel=5)\n",
    "model.compile(optimizer=opt, loss=\"mse\")\n",
    "\n",
    "model.summary()\n",
    "\n",
    "#es = EarlyStopping(\n",
    "#    monitor=\"val_loss\", mode=\"min\", patience=10, restore_best_weights=True\n",
    "#)\n",
    "#Xscaler.adapt(X)\n",
    "\n",
    "history = model.fit(training_generator, batch_size=128, epochs=10)"
   ]
  },
  {
   "cell_type": "code",
   "execution_count": null,
   "id": "4df31c6c-e9b5-4aa7-8eb7-ca257da796e5",
   "metadata": {},
   "outputs": [],
   "source": []
  },
  {
   "cell_type": "raw",
   "id": "9665d5da-9fd2-4339-8a85-c1a6735694b0",
   "metadata": {},
   "source": [
    "num = 10_000\n",
    "Y = np.empty((num, 1))\n",
    "EIT = np.empty((num, 4096, 1))\n",
    "bs = params[\"batch_size\"]\n",
    "for n in range(len(training_generator)):\n",
    "    x, y = next(training_generator)\n",
    "    Y[n*bs:(n+1)*bs,:] = y\n",
    "    EIT[n*bs:(n+1)*bs,:,:] = x"
   ]
  }
 ],
 "metadata": {
  "kernelspec": {
   "display_name": "ml-TF_2_12",
   "language": "python",
   "name": "ml-tf_2_12"
  },
  "language_info": {
   "codemirror_mode": {
    "name": "ipython",
    "version": 3
   },
   "file_extension": ".py",
   "mimetype": "text/x-python",
   "name": "python",
   "nbconvert_exporter": "python",
   "pygments_lexer": "ipython3",
   "version": "3.11.2"
  }
 },
 "nbformat": 4,
 "nbformat_minor": 5
}
