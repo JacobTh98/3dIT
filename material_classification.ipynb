{
 "cells": [
  {
   "cell_type": "code",
   "execution_count": 1,
   "id": "e66adad1-f805-4170-a93c-f3e16da57e49",
   "metadata": {},
   "outputs": [
    {
     "name": "stderr",
     "output_type": "stream",
     "text": [
      "2024-03-13 09:14:26.961367: E tensorflow/compiler/xla/stream_executor/cuda/cuda_dnn.cc:9342] Unable to register cuDNN factory: Attempting to register factory for plugin cuDNN when one has already been registered\n",
      "2024-03-13 09:14:26.961472: E tensorflow/compiler/xla/stream_executor/cuda/cuda_fft.cc:609] Unable to register cuFFT factory: Attempting to register factory for plugin cuFFT when one has already been registered\n",
      "2024-03-13 09:14:26.962305: E tensorflow/compiler/xla/stream_executor/cuda/cuda_blas.cc:1518] Unable to register cuBLAS factory: Attempting to register factory for plugin cuBLAS when one has already been registered\n",
      "2024-03-13 09:14:27.049222: I tensorflow/core/platform/cpu_feature_guard.cc:182] This TensorFlow binary is optimized to use available CPU instructions in performance-critical operations.\n",
      "To enable the following instructions: AVX2 FMA, in other operations, rebuild TensorFlow with the appropriate compiler flags.\n"
     ]
    }
   ],
   "source": [
    "import glob\n",
    "import json\n",
    "import random\n",
    "\n",
    "import matplotlib.pyplot as plt\n",
    "import numpy as np\n",
    "\n",
    "from mpl_toolkits.mplot3d import Axes3D\n",
    "from sklearn.datasets import load_iris\n",
    "from sklearn.decomposition import PCA\n",
    "from sklearn.metrics import confusion_matrix\n",
    "from sklearn.model_selection import train_test_split\n",
    "from src.dataprocessing import get_measured_potential\n",
    "from tensorflow import distribute as dist\n",
    "from tensorflow.keras.callbacks import EarlyStopping\n",
    "import tensorflow as tf\n",
    "from tensorflow.keras.models import Model\n",
    "from tensorflow.keras.optimizers import Adam\n",
    "from tensorflow.keras.utils import Sequence"
   ]
  },
  {
   "cell_type": "code",
   "execution_count": 2,
   "id": "0c58cc75-4c6e-4d19-ad29-dcf7bea18040",
   "metadata": {},
   "outputs": [],
   "source": [
    "class DataGenerator(Sequence):\n",
    "    def __init__(\n",
    "        self,\n",
    "        list_IDs,\n",
    "        path,\n",
    "        batch_size=32,\n",
    "        eit_dim=4096,\n",
    "        supervised=\"diameter\",\n",
    "        shuffle=True,\n",
    "    ):\n",
    "        \"Initialization\"\n",
    "        self.path = path\n",
    "        self.eit_dim = eit_dim\n",
    "        self.supervised = supervised\n",
    "        self.batch_size = batch_size\n",
    "        self.list_IDs = list_IDs\n",
    "        self.shuffle = shuffle\n",
    "        self.on_epoch_end()\n",
    "        self.n = 0\n",
    "        self.max = self.__len__()\n",
    "\n",
    "    def __len__(self):\n",
    "        \"Denotes the number of batches per epoch\"\n",
    "        return int(np.floor(len(self.list_IDs) / self.batch_size))\n",
    "\n",
    "    def __getitem__(self, index):\n",
    "        \"Generate one batch of data\"\n",
    "        indexes = self.indexes[index * self.batch_size : (index + 1) * self.batch_size]\n",
    "        list_IDs_temp = [self.list_IDs[k] for k in indexes]\n",
    "        X, y = self.__data_generation(list_IDs_temp)\n",
    "        return X, y\n",
    "\n",
    "    def __next__(self):\n",
    "        if self.n >= self.max:\n",
    "            self.n = 0\n",
    "        result = self.__getitem__(self.n)\n",
    "        self.n += 1\n",
    "        return result\n",
    "\n",
    "    def on_epoch_end(self):\n",
    "        \"Updates indexes after each epoch\"\n",
    "        self.indexes = np.arange(len(self.list_IDs))\n",
    "        if self.shuffle == True:\n",
    "            np.random.shuffle(self.indexes)\n",
    "\n",
    "    def __data_generation(self, list_IDs_temp):\n",
    "        \"Generates data containing batch_size samples\"  # X : (n_samples, *eit_dim)\n",
    "        # Initialization\n",
    "        X = np.empty((self.batch_size, 64, 64, 1))  # EIT signal, self.eit_dim\n",
    "        y = np.empty((self.batch_size, 1))\n",
    "\n",
    "        # Generate data\n",
    "        for i, ID in enumerate(list_IDs_temp):\n",
    "            # load sample\n",
    "            tmp = np.load(\n",
    "                \"{0:s}/sample_{1:06d}.npz\".format(self.path, ID), allow_pickle=True\n",
    "            )\n",
    "            anomaly = tmp[\"anomaly\"].tolist()\n",
    "            raw_eit = get_measured_potential(tmp, shape_type=\"matrix\")\n",
    "            # raw_eit = get_measured_potential(tmp, shape_type=\"vector\")\n",
    "            mean_eit = np.load(\n",
    "                f\"{self.path.split('/')[0]}/datameans/mean_gnd_d_{anomaly.d}_{anomaly.material}.npy\",\n",
    "                allow_pickle=True,\n",
    "            )\n",
    "            pot = np.abs(raw_eit - np.reshape(mean_eit,(64,64)))\n",
    "            # pot = np.abs(raw_eit - mean_eit) # vector eit data shape\n",
    "            X[\n",
    "                i,\n",
    "            ] = np.expand_dims(pot, axis=2)\n",
    "            #X[\n",
    "            #    i,\n",
    "            #] = np.expand_dims(pot, axis=1)\n",
    "            if self.supervised == \"diameter\":\n",
    "                y[\n",
    "                    i,\n",
    "                ] = anomaly.d\n",
    "            elif self.supervised == \"material\":\n",
    "                mat_dict = {\"acryl\": 0, \"messing\": 1}\n",
    "                y[\n",
    "                    i,\n",
    "                ] = mat_dict[anomaly.material]\n",
    "\n",
    "            # add normalization?\n",
    "        return X, y"
   ]
  },
  {
   "cell_type": "code",
   "execution_count": 3,
   "id": "bf7ba285-d148-4f59-b907-2dfe036bef11",
   "metadata": {},
   "outputs": [],
   "source": [
    "params = {\n",
    "    \"path\": \"measurements/datapool/\",\n",
    "    \"eit_dim\": 4096,\n",
    "    \"supervised\": \"material\",  # \"diameter\" or \"material\"\n",
    "    \"batch_size\": 5,\n",
    "    \"shuffle\": True,\n",
    "}\n",
    "\n",
    "idx = np.arange(0, 124_200)[:10_000]\n",
    "np.random.shuffle(idx)\n",
    "\n",
    "training_generator = DataGenerator(idx, **params)"
   ]
  },
  {
   "cell_type": "code",
   "execution_count": 4,
   "id": "7d9ee91b-1295-46d9-9677-054e2d306097",
   "metadata": {},
   "outputs": [],
   "source": [
    "X, Y = training_generator[0]"
   ]
  },
  {
   "cell_type": "code",
   "execution_count": 5,
   "id": "95f14dec-ea00-40ed-ad28-d9403a188080",
   "metadata": {},
   "outputs": [
    {
     "name": "stdout",
     "output_type": "stream",
     "text": [
      "(5, 64, 64, 1) (5, 1)\n"
     ]
    }
   ],
   "source": [
    "print(X.shape, Y.shape)"
   ]
  },
  {
   "cell_type": "code",
   "execution_count": 19,
   "id": "bec004f4-c999-462a-93d0-e4184ffaafae",
   "metadata": {},
   "outputs": [],
   "source": [
    "Xscaler = tf.keras.layers.Normalization(axis=2)\n",
    "\n",
    "def model(input_shape=(64, 64, 1), latent_dim=3, kernel=9):\n",
    "    mapper_input = tf.keras.layers.Input(shape=input_shape)\n",
    "\n",
    "    # normalize input data\n",
    "    x = Xscaler(mapper_input)\n",
    "\n",
    "    # convolutional layers\n",
    "    x = tf.keras.layers.Conv2D(8, kernel, strides=(2, 4), padding=\"same\")(x)\n",
    "    # x = MaxPooling2D(pool_size=(2,4))(x)\n",
    "    #x = tf.keras.layers.BatchNormalization()(x)\n",
    "    #x = tf.keras.layers.Activation(\"elu\")(x)\n",
    "    #x = Dropout(0.5)(x)\n",
    "\n",
    "    x = tf.keras.layers.Conv2D(8, kernel, strides=(2, 4), padding=\"same\")(x)\n",
    "    # x = MaxPooling2D(pool_size=(2,4))(x)\n",
    "    #x = BatchNormalization()(x)\n",
    "    #x = Activation(\"elu\")(x)\n",
    "    #x = Dropout(0.5)(x)\n",
    "\n",
    "    x = tf.keras.layers.Conv2D(16, kernel, strides=(2, 4), padding=\"same\")(x)\n",
    "    # x = MaxPooling2D(pool_size=(2,4))(x)\n",
    "    #x = BatchNormalization()(x)\n",
    "    #x = Activation(\"elu\")(x)\n",
    "    #x = Dropout(0.5)(x)\n",
    "\n",
    "    x = tf.keras.layers.Conv2D(16, kernel, strides=(2, 4), padding=\"same\")(x)\n",
    "    #x = MaxPooling2D(pool_size=(2, 4))(x)\n",
    "    #x = tf.keras.layers.BatchNormalization()(x)\n",
    "    #x = Activation(\"elu\")(x)\n",
    "    #x = Dropout(0.25)(x)\n",
    "\n",
    "    x = tf.keras.layers.Flatten()(x)\n",
    "    # x = Dense(latent_dim, activation=\"elu\")(x)\n",
    "    mapper_output = tf.keras.layers.Dense(latent_dim, activation=\"linear\")(x)\n",
    "\n",
    "    return Model(mapper_input, mapper_output)"
   ]
  },
  {
   "cell_type": "code",
   "execution_count": 20,
   "id": "da8e020c-db43-4ca9-9467-052fb22c6c0e",
   "metadata": {
    "tags": []
   },
   "outputs": [
    {
     "name": "stdout",
     "output_type": "stream",
     "text": [
      "Model: \"model_1\"\n",
      "_________________________________________________________________\n",
      " Layer (type)                Output Shape              Param #   \n",
      "=================================================================\n",
      " input_2 (InputLayer)        [(None, 64, 64, 1)]       0         \n",
      "                                                                 \n",
      " normalization_1 (Normaliza  (None, 64, 64, 1)         129       \n",
      " tion)                                                           \n",
      "                                                                 \n",
      " conv2d_4 (Conv2D)           (None, 32, 16, 8)         208       \n",
      "                                                                 \n",
      " conv2d_5 (Conv2D)           (None, 16, 4, 8)          1608      \n",
      "                                                                 \n",
      " conv2d_6 (Conv2D)           (None, 8, 1, 16)          3216      \n",
      "                                                                 \n",
      " conv2d_7 (Conv2D)           (None, 4, 1, 16)          6416      \n",
      "                                                                 \n",
      " flatten_1 (Flatten)         (None, 64)                0         \n",
      "                                                                 \n",
      " dense_1 (Dense)             (None, 1)                 65        \n",
      "                                                                 \n",
      "=================================================================\n",
      "Total params: 11642 (45.48 KB)\n",
      "Trainable params: 11513 (44.97 KB)\n",
      "Non-trainable params: 129 (520.00 Byte)\n",
      "_________________________________________________________________\n",
      "Epoch 1/10\n",
      "2000/2000 [==============================] - 149s 74ms/step - loss: 0.0510\n",
      "Epoch 2/10\n",
      "2000/2000 [==============================] - 149s 74ms/step - loss: 0.0065\n",
      "Epoch 3/10\n",
      "2000/2000 [==============================] - 136s 68ms/step - loss: 0.0033\n",
      "Epoch 4/10\n",
      "2000/2000 [==============================] - 138s 69ms/step - loss: 0.0027\n",
      "Epoch 5/10\n",
      "2000/2000 [==============================] - 167s 83ms/step - loss: 0.0020\n",
      "Epoch 6/10\n",
      "2000/2000 [==============================] - 155s 77ms/step - loss: 0.0020\n",
      "Epoch 7/10\n",
      "2000/2000 [==============================] - 161s 80ms/step - loss: 0.0018\n",
      "Epoch 8/10\n",
      "2000/2000 [==============================] - 154s 77ms/step - loss: 0.0016\n",
      "Epoch 9/10\n",
      "2000/2000 [==============================] - 153s 76ms/step - loss: 0.0014\n",
      "Epoch 10/10\n",
      "2000/2000 [==============================] - 160s 80ms/step - loss: 0.0014\n"
     ]
    }
   ],
   "source": [
    "opt = Adam(learning_rate=1e-3)\n",
    "model = model(latent_dim=1, kernel=5)\n",
    "model.compile(optimizer=opt, loss=\"mse\")\n",
    "\n",
    "model.summary()\n",
    "\n",
    "#es = EarlyStopping(\n",
    "#    monitor=\"val_loss\", mode=\"min\", patience=10, restore_best_weights=True\n",
    "#)\n",
    "#Xscaler.adapt(X)\n",
    "\n",
    "history = model.fit(training_generator, batch_size=128, epochs=10)"
   ]
  },
  {
   "cell_type": "code",
   "execution_count": 16,
   "id": "4df31c6c-e9b5-4aa7-8eb7-ca257da796e5",
   "metadata": {},
   "outputs": [
    {
     "data": {
      "text/plain": [
       "[<matplotlib.lines.Line2D at 0x7f4ae1c3f090>]"
      ]
     },
     "execution_count": 16,
     "metadata": {},
     "output_type": "execute_result"
    },
    {
     "data": {
      "image/png": "[encoded data removed]",
      "text/plain": [
       "<Figure size 640x480 with 1 Axes>"
      ]
     },
     "metadata": {},
     "output_type": "display_data"
    }
   ],
   "source": [
    "plt.plot(history.history[\"loss\"])"
   ]
  },
  {
   "cell_type": "code",
   "execution_count": 18,
   "id": "6644b9ad-72ae-4964-81b1-0eb86583d725",
   "metadata": {},
   "outputs": [
    {
     "name": "stdout",
     "output_type": "stream",
     "text": [
      "1/1 [==============================] - 0s 175ms/step\n"
     ]
    },
    {
     "data": {
      "text/plain": [
       "array([[0.01974127, 0.01856209, 0.01671283],\n",
       "       [1.0302228 , 1.031304  , 1.02743   ],\n",
       "       [0.01510264, 0.02062805, 0.01538472],\n",
       "       [1.0563717 , 1.0588499 , 1.055288  ],\n",
       "       [0.03291295, 0.03343184, 0.02950861]], dtype=float32)"
      ]
     },
     "execution_count": 18,
     "metadata": {},
     "output_type": "execute_result"
    }
   ],
   "source": [
    "xx,yy = training_generator[0]\n",
    "model.predict(xx)"
   ]
  },
  {
   "cell_type": "raw",
   "id": "9665d5da-9fd2-4339-8a85-c1a6735694b0",
   "metadata": {},
   "source": [
    "num = 10_000\n",
    "Y = np.empty((num, 1))\n",
    "EIT = np.empty((num, 4096, 1))\n",
    "bs = params[\"batch_size\"]\n",
    "for n in range(len(training_generator)):\n",
    "    x, y = next(training_generator)\n",
    "    Y[n*bs:(n+1)*bs,:] = y\n",
    "    EIT[n*bs:(n+1)*bs,:,:] = x"
   ]
  }
 ],
 "metadata": {
  "kernelspec": {
   "display_name": "ml-TF_2_12",
   "language": "python",
   "name": "ml-tf_2_12"
  },
  "language_info": {
   "codemirror_mode": {
    "name": "ipython",
    "version": 3
   },
   "file_extension": ".py",
   "mimetype": "text/x-python",
   "name": "python",
   "nbconvert_exporter": "python",
   "pygments_lexer": "ipython3",
   "version": "3.11.2"
  }
 },
 "nbformat": 4,
 "nbformat_minor": 5
}
